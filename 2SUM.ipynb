{
 "metadata": {
  "name": ""
 },
 "nbformat": 3,
 "nbformat_minor": 0,
 "worksheets": [
  {
   "cells": [
    {
     "cell_type": "code",
     "collapsed": false,
     "input": [
      "filename=\"C:/Users/lbklein/_COURSES/StanfordAlgorithms/Week6/algo1-programming_prob-2sum.txt\"\n",
      "with open(filename, 'r', encoding='utf-8') as f:\n",
      "    d = set()\n",
      "    lines = (line.strip() for line in f)\n",
      "    for line in lines:\n",
      "        d.add(int(line))\n",
      "d = list(d)\n",
      "len(d)"
     ],
     "language": "python",
     "metadata": {},
     "outputs": [
      {
       "metadata": {},
       "output_type": "pyout",
       "prompt_number": 19,
       "text": [
        "999752"
       ]
      }
     ],
     "prompt_number": 19
    },
    {
     "cell_type": "code",
     "collapsed": false,
     "input": [
      "def rank(a, key):\n",
      "    lo = 0\n",
      "    hi = len(a) - 1\n",
      "    while hi >= lo:\n",
      "        mid = lo + (hi - lo) // 2\n",
      "        if key == a[mid]:\n",
      "            return mid\n",
      "        elif key > a[mid]:\n",
      "            lo = mid + 1\n",
      "        else:\n",
      "            hi = mid - 1\n",
      "    return lo"
     ],
     "language": "python",
     "metadata": {},
     "outputs": [],
     "prompt_number": 2
    },
    {
     "cell_type": "code",
     "collapsed": false,
     "input": [
      "def binary_search(a, lo, hi, key):\n",
      "    while hi >= lo:\n",
      "        mid = lo + (hi - lo) // 2\n",
      "        if key == a[mid]:\n",
      "            return mid\n",
      "        elif key > a[mid]:\n",
      "            lo = mid + 1\n",
      "        else:\n",
      "            hi = mid - 1\n",
      "    return -1"
     ],
     "language": "python",
     "metadata": {},
     "outputs": [],
     "prompt_number": 3
    },
    {
     "cell_type": "code",
     "collapsed": false,
     "input": [
      "def inInterval(s):\n",
      "    return minval <= s <= maxval"
     ],
     "language": "python",
     "metadata": {},
     "outputs": [],
     "prompt_number": 4
    },
    {
     "cell_type": "code",
     "collapsed": false,
     "input": [
      "def count_2SUM(d, minval, maxval):\n",
      "    targets = [False] * (maxval - minval + 1)\n",
      "    t_index = rank(d, minval)  # index of first pos integer\n",
      "    hi = len(d) - 1\n",
      "    j = hi\n",
      "    for i in range(t_index):\n",
      "        x = d[i]\n",
      "        y = d[j]\n",
      "        s = x + y\n",
      "        #print(i, j, s)\n",
      "        if inInterval(s):\n",
      "            targets[s] = True\n",
      "            q = j + 1\n",
      "            while q < hi:\n",
      "                s = x + d[q]\n",
      "                #print(\"in range, moving j right\", i, q, s)\n",
      "                if inInterval(s):\n",
      "                    targets[s] = True\n",
      "                    q += 1\n",
      "                else:\n",
      "                    break\n",
      "            q = j - 1\n",
      "            while q > t_index:\n",
      "                s = x + d[q]\n",
      "                #print(\"in range, moving j left\", i, q, s)\n",
      "                if inInterval(s):\n",
      "                    targets[s] = True\n",
      "                    q -= 1\n",
      "                else:\n",
      "                    break \n",
      "        elif s < minval:\n",
      "            # y is too small\n",
      "            q = j + 1\n",
      "            while q < hi:\n",
      "                s = x + d[q]\n",
      "                #print(\"too small, moving j right\", i, q, s)\n",
      "                if s < minval:\n",
      "                    q += 1\n",
      "                elif inInterval(s):\n",
      "                    targets[s] = True\n",
      "                    q += 1\n",
      "                else:\n",
      "                    break\n",
      "        else:\n",
      "            # s > maxval\n",
      "            # y is too big\n",
      "            q = j - 1\n",
      "            while q > t_index:\n",
      "                s = x + d[q]\n",
      "                #print(\"too big, moving j left\", i, q, s)\n",
      "                if s > maxval:\n",
      "                    q -= 1\n",
      "                elif inInterval(s):\n",
      "                    targets[s] = True\n",
      "                    q -= 1\n",
      "                else:\n",
      "                    #print('reset j')\n",
      "                    j = q - 1\n",
      "                    break\n",
      "    return sum(targets)"
     ],
     "language": "python",
     "metadata": {},
     "outputs": [],
     "prompt_number": 15
    },
    {
     "cell_type": "code",
     "collapsed": false,
     "input": [
      "minval = -10000\n",
      "maxval = 10000\n",
      "d.sort()"
     ],
     "language": "python",
     "metadata": {},
     "outputs": [],
     "prompt_number": 20
    },
    {
     "cell_type": "code",
     "collapsed": false,
     "input": [
      "count = count_2SUM(d, minval, maxval)"
     ],
     "language": "python",
     "metadata": {},
     "outputs": [],
     "prompt_number": 21
    },
    {
     "cell_type": "code",
     "collapsed": false,
     "input": [
      "count"
     ],
     "language": "python",
     "metadata": {},
     "outputs": [
      {
       "metadata": {},
       "output_type": "pyout",
       "prompt_number": 22,
       "text": [
        "427"
       ]
      }
     ],
     "prompt_number": 22
    },
    {
     "cell_type": "code",
     "collapsed": false,
     "input": [],
     "language": "python",
     "metadata": {},
     "outputs": []
    }
   ],
   "metadata": {}
  }
 ]
}